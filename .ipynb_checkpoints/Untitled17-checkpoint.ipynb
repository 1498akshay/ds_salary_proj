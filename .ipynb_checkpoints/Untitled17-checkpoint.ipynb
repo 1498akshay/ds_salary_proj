{
 "cells": [
  {
   "cell_type": "code",
   "execution_count": 6,
   "id": "e6798b9b",
   "metadata": {},
   "outputs": [],
   "source": [
    "import glassdoor_scraper as gs"
   ]
  },
  {
   "cell_type": "code",
   "execution_count": 1,
   "id": "8bd5761e",
   "metadata": {},
   "outputs": [
    {
     "data": {
      "text/plain": [
       "'C:\\\\Users\\\\Vijaykumar Gajbhiye'"
      ]
     },
     "execution_count": 1,
     "metadata": {},
     "output_type": "execute_result"
    }
   ],
   "source": [
    "import pandas as pd"
   ]
  },
  {
   "cell_type": "code",
   "execution_count": 3,
   "id": "6f68394a",
   "metadata": {},
   "outputs": [
    {
     "data": {
      "text/plain": [
       "'C:\\\\Users\\\\Vijaykumar Gajbhiye'"
      ]
     },
     "execution_count": 3,
     "metadata": {},
     "output_type": "execute_result"
    }
   ],
   "source": [
    "import os\n",
    "os.getcwd( )"
   ]
  },
  {
   "cell_type": "code",
   "execution_count": 4,
   "id": "8c7898ec",
   "metadata": {},
   "outputs": [],
   "source": [
    "os.chdir('D:\\datasci\\ds_salary_proj') "
   ]
  },
  {
   "cell_type": "code",
   "execution_count": 5,
   "id": "4ba28b37",
   "metadata": {},
   "outputs": [
    {
     "data": {
      "text/plain": [
       "'D:\\\\datasci\\\\ds_salary_proj'"
      ]
     },
     "execution_count": 5,
     "metadata": {},
     "output_type": "execute_result"
    }
   ],
   "source": [
    "os.getcwd( )"
   ]
  },
  {
   "cell_type": "code",
   "execution_count": null,
   "id": "4e387b92",
   "metadata": {},
   "outputs": [],
   "source": []
  }
 ],
 "metadata": {
  "kernelspec": {
   "display_name": "Python 3 (ipykernel)",
   "language": "python",
   "name": "python3"
  },
  "language_info": {
   "codemirror_mode": {
    "name": "ipython",
    "version": 3
   },
   "file_extension": ".py",
   "mimetype": "text/x-python",
   "name": "python",
   "nbconvert_exporter": "python",
   "pygments_lexer": "ipython3",
   "version": "3.9.12"
  }
 },
 "nbformat": 4,
 "nbformat_minor": 5
}
